{
 "cells": [
  {
   "cell_type": "code",
   "execution_count": null,
   "metadata": {},
   "outputs": [],
   "source": []
  },
  {
   "cell_type": "code",
   "execution_count": 2,
   "metadata": {},
   "outputs": [
    {
     "ename": "ModuleNotFoundError",
     "evalue": "No module named 'pandas'",
     "output_type": "error",
     "traceback": [
      "\u001b[1;31m---------------------------------------------------------------------------\u001b[0m",
      "\u001b[1;31mModuleNotFoundError\u001b[0m                       Traceback (most recent call last)",
      "Cell \u001b[1;32mIn[2], line 2\u001b[0m\n\u001b[0;32m      1\u001b[0m \u001b[38;5;66;03m#!pip install pyinaturalist\u001b[39;00m\n\u001b[1;32m----> 2\u001b[0m \u001b[38;5;28;01mimport\u001b[39;00m \u001b[38;5;21;01mpandas\u001b[39;00m \u001b[38;5;28;01mas\u001b[39;00m \u001b[38;5;21;01mpd\u001b[39;00m\n\u001b[0;32m      3\u001b[0m \u001b[38;5;28;01mimport\u001b[39;00m \u001b[38;5;21;01mpyinaturalist\u001b[39;00m\n",
      "\u001b[1;31mModuleNotFoundError\u001b[0m: No module named 'pandas'"
     ]
    }
   ],
   "source": [
    "#!pip install pyinaturalist\n",
    "import pandas as pd\n",
    "import pyinaturalist"
   ]
  },
  {
   "cell_type": "code",
   "execution_count": 4,
   "metadata": {},
   "outputs": [
    {
     "name": "stdout",
     "output_type": "stream",
     "text": [
      "{'total_results': 1, 'page': 1, 'per_page': 30, 'results': [{'id': 43584, 'rank': 'species', 'rank_level': 10, 'iconic_taxon_id': 40151, 'ancestor_ids': [48460, 1, 2, 355675, 40151, 848317, 848320, 848323, 43367, 786045, 936377, 936369, 1036675, 43575, 846252, 43583, 43584], 'is_active': True, 'name': 'Homo sapiens', 'parent_id': 43583, 'ancestry': '48460/1/2/355675/40151/848317/848320/848323/43367/786045/936377/936369/1036675/43575/846252/43583', 'extinct': False, 'default_photo': {'id': 80550183, 'license_code': 'cc0', 'attribution': 'no rights reserved, uploaded by Abhas Misraraj', 'url': 'https://inaturalist-open-data.s3.amazonaws.com/photos/80550183/square.jpg', 'original_dimensions': {'height': 2000, 'width': 2000}, 'flags': [], 'square_url': 'https://inaturalist-open-data.s3.amazonaws.com/photos/80550183/square.jpg', 'medium_url': 'https://inaturalist-open-data.s3.amazonaws.com/photos/80550183/medium.jpg'}, 'taxon_changes_count': 1, 'taxon_schemes_count': 5, 'observations_count': 115454, 'flag_counts': {'resolved': 7, 'unresolved': 0}, 'current_synonymous_taxon_ids': None, 'atlas_id': 20857, 'complete_species_count': None, 'wikipedia_url': 'http://en.wikipedia.org/wiki/Homo_sapiens', 'matched_term': 'Homo sapiens', 'iconic_taxon_name': 'Mammalia', 'preferred_common_name': 'Human', 'created_at': None}]}\n"
     ]
    },
    {
     "data": {
      "text/html": [
       "<pre style=\"white-space:pre;overflow-x:auto;line-height:normal;font-family:Menlo,'DejaVu Sans Mono',consolas,'Courier New',monospace\"></pre>\n"
      ],
      "text/plain": []
     },
     "metadata": {},
     "output_type": "display_data"
    },
    {
     "data": {
      "text/plain": [
       "\u001b[1m{\u001b[0m\u001b[32m'total_results'\u001b[0m: \u001b[1;36m0\u001b[0m, \u001b[32m'page'\u001b[0m: \u001b[1;36m1\u001b[0m, \u001b[32m'per_page'\u001b[0m: \u001b[1;36m30\u001b[0m, \u001b[32m'results'\u001b[0m: \u001b[1m[\u001b[0m\u001b[1m]\u001b[0m\u001b[1m}\u001b[0m"
      ]
     },
     "execution_count": 4,
     "metadata": {},
     "output_type": "execute_result"
    }
   ],
   "source": [
    "from pyinaturalist import get_taxa, get_observations\n",
    "\n",
    "# Get taxa data\n",
    "taxa = get_taxa(q='homo sapiens')\n",
    "print(taxa)\n",
    "\n",
    "# Get observations\n",
    "observations = get_observations(user_id='username')\n",
    "observations\n"
   ]
  },
  {
   "cell_type": "code",
   "execution_count": 12,
   "metadata": {},
   "outputs": [
    {
     "ename": "NameError",
     "evalue": "name 'obs' is not defined",
     "output_type": "error",
     "traceback": [
      "\u001b[0;31m---------------------------------------------------------------------------\u001b[0m",
      "\u001b[0;31mNameError\u001b[0m                                 Traceback (most recent call last)",
      "Cell \u001b[0;32mIn[12], line 1\u001b[0m\n\u001b[0;32m----> 1\u001b[0m pyinaturalist\u001b[38;5;241m.\u001b[39mpprint(\u001b[43mobs\u001b[49m)\n",
      "\u001b[0;31mNameError\u001b[0m: name 'obs' is not defined"
     ]
    }
   ],
   "source": [
    "pyinaturalist.pprint(obs)"
   ]
  }
 ],
 "metadata": {
  "kernelspec": {
   "display_name": "Python 3",
   "language": "python",
   "name": "python3"
  },
  "language_info": {
   "codemirror_mode": {
    "name": "ipython",
    "version": 3
   },
   "file_extension": ".py",
   "mimetype": "text/x-python",
   "name": "python",
   "nbconvert_exporter": "python",
   "pygments_lexer": "ipython3",
   "version": "3.11.9"
  }
 },
 "nbformat": 4,
 "nbformat_minor": 2
}
